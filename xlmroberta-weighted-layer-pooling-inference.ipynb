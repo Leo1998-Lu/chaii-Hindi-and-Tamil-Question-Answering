{
 "cells": [
  {
   "cell_type": "markdown",
   "metadata": {
    "papermill": {
     "duration": 0.01364,
     "end_time": "2021-11-14T18:38:01.124457",
     "exception": false,
     "start_time": "2021-11-14T18:38:01.110817",
     "status": "completed"
    },
    "tags": []
   },
   "source": [
    "### Import Dependencies"
   ]
  },
  {
   "cell_type": "code",
   "execution_count": 1,
   "metadata": {
    "_cell_guid": "b1076dfc-b9ad-4769-8c92-a6c4dae69d19",
    "_uuid": "8f2839f25d086af736a60e9eeb907d3b93b6e0e5",
    "execution": {
     "iopub.execute_input": "2021-11-14T18:38:01.169531Z",
     "iopub.status.busy": "2021-11-14T18:38:01.168831Z",
     "iopub.status.idle": "2021-11-14T18:38:08.061441Z",
     "shell.execute_reply": "2021-11-14T18:38:08.060908Z",
     "shell.execute_reply.started": "2021-11-14T18:33:25.554062Z"
    },
    "papermill": {
     "duration": 6.92355,
     "end_time": "2021-11-14T18:38:08.061597",
     "exception": false,
     "start_time": "2021-11-14T18:38:01.138047",
     "status": "completed"
    },
    "tags": []
   },
   "outputs": [
    {
     "name": "stdout",
     "output_type": "stream",
     "text": [
      "Apex AMP Installed :: False\n"
     ]
    }
   ],
   "source": [
    "import os\n",
    "import gc\n",
    "gc.enable()\n",
    "import math\n",
    "import json\n",
    "import time\n",
    "import random\n",
    "import multiprocessing\n",
    "import warnings\n",
    "warnings.filterwarnings(\"ignore\", category=UserWarning)\n",
    "\n",
    "import numpy as np\n",
    "import pandas as pd\n",
    "from tqdm import tqdm, trange\n",
    "from sklearn import model_selection\n",
    "\n",
    "import torch\n",
    "import torch.nn as nn\n",
    "import torch.nn.functional as F\n",
    "from torch.nn import Parameter\n",
    "import torch.optim as optim\n",
    "from torch.utils.data import (\n",
    "    Dataset, DataLoader,\n",
    "    SequentialSampler, RandomSampler\n",
    ")\n",
    "from torch.utils.data.distributed import DistributedSampler\n",
    "\n",
    "try:\n",
    "    from apex import amp\n",
    "    APEX_INSTALLED = True\n",
    "except ImportError:\n",
    "    APEX_INSTALLED = False\n",
    "\n",
    "import transformers\n",
    "from transformers import (\n",
    "    WEIGHTS_NAME,\n",
    "    AdamW,\n",
    "    AutoConfig,\n",
    "    AutoModel,\n",
    "    AutoTokenizer,\n",
    "    get_cosine_schedule_with_warmup,\n",
    "    get_linear_schedule_with_warmup,\n",
    "    logging,\n",
    "    MODEL_FOR_QUESTION_ANSWERING_MAPPING,\n",
    ")\n",
    "logging.set_verbosity_warning()\n",
    "logging.set_verbosity_error()\n",
    "\n",
    "def fix_all_seeds(seed):\n",
    "    np.random.seed(seed)\n",
    "    random.seed(seed)\n",
    "    os.environ['PYTHONHASHSEED'] = str(seed)\n",
    "    torch.manual_seed(seed)\n",
    "    torch.cuda.manual_seed(seed)\n",
    "    torch.cuda.manual_seed_all(seed)\n",
    "\n",
    "def optimal_num_of_loader_workers():\n",
    "    num_cpus = multiprocessing.cpu_count()\n",
    "    num_gpus = torch.cuda.device_count()\n",
    "    optimal_value = min(num_cpus, num_gpus*4) if num_gpus else num_cpus - 1\n",
    "    return optimal_value\n",
    "\n",
    "print(f\"Apex AMP Installed :: {APEX_INSTALLED}\")\n",
    "MODEL_CONFIG_CLASSES = list(MODEL_FOR_QUESTION_ANSWERING_MAPPING.keys())\n",
    "MODEL_TYPES = tuple(conf.model_type for conf in MODEL_CONFIG_CLASSES)"
   ]
  },
  {
   "cell_type": "markdown",
   "metadata": {
    "papermill": {
     "duration": 0.013997,
     "end_time": "2021-11-14T18:38:08.090009",
     "exception": false,
     "start_time": "2021-11-14T18:38:08.076012",
     "status": "completed"
    },
    "tags": []
   },
   "source": [
    "### Configuration"
   ]
  },
  {
   "cell_type": "code",
   "execution_count": 2,
   "metadata": {
    "execution": {
     "iopub.execute_input": "2021-11-14T18:38:08.123798Z",
     "iopub.status.busy": "2021-11-14T18:38:08.123085Z",
     "iopub.status.idle": "2021-11-14T18:38:08.125904Z",
     "shell.execute_reply": "2021-11-14T18:38:08.125486Z",
     "shell.execute_reply.started": "2021-11-14T18:33:32.926789Z"
    },
    "papermill": {
     "duration": 0.022028,
     "end_time": "2021-11-14T18:38:08.126015",
     "exception": false,
     "start_time": "2021-11-14T18:38:08.103987",
     "status": "completed"
    },
    "tags": []
   },
   "outputs": [],
   "source": [
    "class Config:\n",
    "    # model\n",
    "    model_type = 'xlm_roberta'\n",
    "    model_name_or_path = '../input/xlm-roberta-squad2/deepset/xlm-roberta-large-squad2'\n",
    "    config_name = '../input/xlm-roberta-squad2/deepset/xlm-roberta-large-squad2'\n",
    "    fp16 = True if APEX_INSTALLED else False\n",
    "    fp16_opt_level = \"O1\"\n",
    "    gradient_accumulation_steps = 2\n",
    "\n",
    "    # tokenizer\n",
    "    tokenizer_name = '../input/xlm-roberta-squad2/deepset/xlm-roberta-large-squad2'\n",
    "    max_seq_length = 400\n",
    "    doc_stride = 135\n",
    "\n",
    "    # train\n",
    "    epochs = 1\n",
    "    train_batch_size = 4\n",
    "    eval_batch_size = 8\n",
    "\n",
    "    # optimizer\n",
    "    optimizer_type = 'AdamW'\n",
    "    learning_rate = 1e-5\n",
    "    weight_decay = 1e-2\n",
    "    epsilon = 1e-8\n",
    "    max_grad_norm = 1.0\n",
    "    \n",
    "    # scheduler\n",
    "    decay_name = 'cosine-warmup'\n",
    "    warmup_ratio = 0.1\n",
    "\n",
    "    # logging\n",
    "    logging_steps = 10\n",
    "\n",
    "    # evaluate\n",
    "    output_dir = 'output'\n",
    "    seed = 42"
   ]
  },
  {
   "cell_type": "markdown",
   "metadata": {
    "papermill": {
     "duration": 0.01378,
     "end_time": "2021-11-14T18:38:08.153739",
     "exception": false,
     "start_time": "2021-11-14T18:38:08.139959",
     "status": "completed"
    },
    "tags": []
   },
   "source": [
    "### Dataset Retriever"
   ]
  },
  {
   "cell_type": "code",
   "execution_count": 3,
   "metadata": {
    "execution": {
     "iopub.execute_input": "2021-11-14T18:38:08.191507Z",
     "iopub.status.busy": "2021-11-14T18:38:08.190773Z",
     "iopub.status.idle": "2021-11-14T18:38:08.193479Z",
     "shell.execute_reply": "2021-11-14T18:38:08.193056Z",
     "shell.execute_reply.started": "2021-11-14T18:33:32.935029Z"
    },
    "papermill": {
     "duration": 0.025776,
     "end_time": "2021-11-14T18:38:08.193589",
     "exception": false,
     "start_time": "2021-11-14T18:38:08.167813",
     "status": "completed"
    },
    "tags": []
   },
   "outputs": [],
   "source": [
    "class DatasetRetriever(Dataset):\n",
    "    def __init__(self, features, mode='train'):\n",
    "        super(DatasetRetriever, self).__init__()\n",
    "        self.features = features\n",
    "        self.mode = mode\n",
    "        \n",
    "    def __len__(self):\n",
    "        return len(self.features)\n",
    "    \n",
    "    def __getitem__(self, item):   \n",
    "        feature = self.features[item]\n",
    "        if self.mode == 'train':\n",
    "            return {\n",
    "                'input_ids':torch.tensor(feature['input_ids'], dtype=torch.long),\n",
    "                'attention_mask':torch.tensor(feature['attention_mask'], dtype=torch.long),\n",
    "                'offset_mapping':torch.tensor(feature['offset_mapping'], dtype=torch.long),\n",
    "                'start_position':torch.tensor(feature['start_position'], dtype=torch.long),\n",
    "                'end_position':torch.tensor(feature['end_position'], dtype=torch.long)\n",
    "            }\n",
    "        else:\n",
    "            return {\n",
    "                'input_ids':torch.tensor(feature['input_ids'], dtype=torch.long),\n",
    "                'attention_mask':torch.tensor(feature['attention_mask'], dtype=torch.long),\n",
    "                'offset_mapping':feature['offset_mapping'],\n",
    "                'sequence_ids':feature['sequence_ids'],\n",
    "                'id':feature['example_id'],\n",
    "                'context': feature['context'],\n",
    "                'question': feature['question']\n",
    "            }"
   ]
  },
  {
   "cell_type": "markdown",
   "metadata": {
    "papermill": {
     "duration": 0.013625,
     "end_time": "2021-11-14T18:38:08.221188",
     "exception": false,
     "start_time": "2021-11-14T18:38:08.207563",
     "status": "completed"
    },
    "tags": []
   },
   "source": [
    "### Model"
   ]
  },
  {
   "cell_type": "code",
   "execution_count": 4,
   "metadata": {
    "execution": {
     "iopub.execute_input": "2021-11-14T18:38:08.261483Z",
     "iopub.status.busy": "2021-11-14T18:38:08.260798Z",
     "iopub.status.idle": "2021-11-14T18:38:08.263601Z",
     "shell.execute_reply": "2021-11-14T18:38:08.263175Z",
     "shell.execute_reply.started": "2021-11-14T18:33:32.948606Z"
    },
    "papermill": {
     "duration": 0.028625,
     "end_time": "2021-11-14T18:38:08.263709",
     "exception": false,
     "start_time": "2021-11-14T18:38:08.235084",
     "status": "completed"
    },
    "tags": []
   },
   "outputs": [],
   "source": [
    "class WeightedLayerPooling(nn.Module):\n",
    "    def __init__(self, num_hidden_layers, layer_start: int = 4, layer_weights=None):\n",
    "        super(WeightedLayerPooling, self).__init__()\n",
    "        self.layer_start = layer_start\n",
    "        self.num_hidden_layers = num_hidden_layers\n",
    "        self.layer_weights = layer_weights if layer_weights is not None \\\n",
    "            else nn.Parameter(\n",
    "            torch.tensor([1] * (num_hidden_layers + 1 - layer_start), dtype=torch.float)\n",
    "        )\n",
    "\n",
    "    def forward(self, all_hidden_states):\n",
    "        all_layer_embedding = all_hidden_states[self.layer_start:, :, :, :]\n",
    "        weight_factor = self.layer_weights.unsqueeze(-1).unsqueeze(-1).unsqueeze(-1).expand(all_layer_embedding.size())\n",
    "        weighted_average = (weight_factor * all_layer_embedding).sum(dim=0) / self.layer_weights.sum()\n",
    "        return weighted_average\n",
    "\n",
    "\n",
    "class Model(nn.Module):\n",
    "    def __init__(self, modelname_or_path, config, layer_start, layer_weights=None):\n",
    "        super(Model, self).__init__()\n",
    "        self.config = config\n",
    "        config.update({\n",
    "            \"hidden_dropout_prob\": 0.0,\n",
    "            \"layer_norm_eps\": 1e-7,\n",
    "            \"output_hidden_states\": True\n",
    "            \n",
    "        })\n",
    "        self.xlm_roberta = AutoModel.from_pretrained(modelname_or_path, config=config)\n",
    "        self.layer_start = layer_start\n",
    "        self.pooling = WeightedLayerPooling(config.num_hidden_layers,\n",
    "                                            layer_start=layer_start,\n",
    "                                            layer_weights=None)\n",
    "        self.layer_norm = nn.LayerNorm(config.hidden_size)\n",
    "        self.dropout = torch.nn.Dropout(0.3)\n",
    "        self.qa_output = torch.nn.Linear(config.hidden_size, 2)\n",
    "        torch.nn.init.normal_(self.qa_output.weight, std=0.02)\n",
    "\n",
    "    def forward(self, input_ids, attention_mask=None):\n",
    "        outputs = self.xlm_roberta(input_ids, attention_mask=attention_mask)\n",
    "        all_hidden_states = torch.stack(outputs.hidden_states)\n",
    "        weighted_pooling_embeddings = self.layer_norm(self.pooling(all_hidden_states))\n",
    "        #weighted_pooling_embeddings = weighted_pooling_embeddings[:, 0]\n",
    "\n",
    "        norm_embeddings = self.dropout(weighted_pooling_embeddings)\n",
    "        logits = self.qa_output(norm_embeddings)\n",
    "        start_logits, end_logits = logits.split(1, dim=-1)\n",
    "\n",
    "        start_logits = start_logits.squeeze(-1)\n",
    "        end_logits = end_logits.squeeze(-1)\n",
    "\n",
    "        return start_logits, end_logits"
   ]
  },
  {
   "cell_type": "markdown",
   "metadata": {
    "papermill": {
     "duration": 0.013913,
     "end_time": "2021-11-14T18:38:08.291597",
     "exception": false,
     "start_time": "2021-11-14T18:38:08.277684",
     "status": "completed"
    },
    "tags": []
   },
   "source": [
    "### Utilities"
   ]
  },
  {
   "cell_type": "code",
   "execution_count": 5,
   "metadata": {
    "execution": {
     "iopub.execute_input": "2021-11-14T18:38:08.324233Z",
     "iopub.status.busy": "2021-11-14T18:38:08.323533Z",
     "iopub.status.idle": "2021-11-14T18:38:08.326260Z",
     "shell.execute_reply": "2021-11-14T18:38:08.325858Z",
     "shell.execute_reply.started": "2021-11-14T18:33:32.964986Z"
    },
    "papermill": {
     "duration": 0.020399,
     "end_time": "2021-11-14T18:38:08.326361",
     "exception": false,
     "start_time": "2021-11-14T18:38:08.305962",
     "status": "completed"
    },
    "tags": []
   },
   "outputs": [],
   "source": [
    "def make_model(args):\n",
    "    config = AutoConfig.from_pretrained(args.config_name)\n",
    "    tokenizer = AutoTokenizer.from_pretrained(args.tokenizer_name)\n",
    "    model = Model(args.model_name_or_path,layer_start=12, config=config)\n",
    "    return config, tokenizer, model"
   ]
  },
  {
   "cell_type": "markdown",
   "metadata": {
    "papermill": {
     "duration": 0.013656,
     "end_time": "2021-11-14T18:38:08.353846",
     "exception": false,
     "start_time": "2021-11-14T18:38:08.340190",
     "status": "completed"
    },
    "tags": []
   },
   "source": [
    "### Covert Examples to Features (Preprocess)"
   ]
  },
  {
   "cell_type": "code",
   "execution_count": 6,
   "metadata": {
    "execution": {
     "iopub.execute_input": "2021-11-14T18:38:08.389943Z",
     "iopub.status.busy": "2021-11-14T18:38:08.389084Z",
     "iopub.status.idle": "2021-11-14T18:38:08.391862Z",
     "shell.execute_reply": "2021-11-14T18:38:08.391469Z",
     "shell.execute_reply.started": "2021-11-14T18:33:32.973804Z"
    },
    "papermill": {
     "duration": 0.023275,
     "end_time": "2021-11-14T18:38:08.391963",
     "exception": false,
     "start_time": "2021-11-14T18:38:08.368688",
     "status": "completed"
    },
    "tags": []
   },
   "outputs": [],
   "source": [
    "def prepare_test_features(args, example, tokenizer):\n",
    "    example[\"question\"] = example[\"question\"].lstrip()\n",
    "    \n",
    "    tokenized_example = tokenizer(\n",
    "        example[\"question\"],\n",
    "        example[\"context\"],\n",
    "        truncation=\"only_second\",\n",
    "        max_length=args.max_seq_length,\n",
    "        stride=args.doc_stride,\n",
    "        return_overflowing_tokens=True,\n",
    "        return_offsets_mapping=True,\n",
    "        padding=\"max_length\",\n",
    "    )\n",
    "\n",
    "    features = []\n",
    "    for i in range(len(tokenized_example[\"input_ids\"])):\n",
    "        feature = {}\n",
    "        feature[\"example_id\"] = example['id']\n",
    "        feature['context'] = example['context']\n",
    "        feature['question'] = example['question']\n",
    "        feature['input_ids'] = tokenized_example['input_ids'][i]\n",
    "        feature['attention_mask'] = tokenized_example['attention_mask'][i]\n",
    "        feature['offset_mapping'] = tokenized_example['offset_mapping'][i]\n",
    "        feature['sequence_ids'] = [0 if i is None else i for i in tokenized_example.sequence_ids(i)]\n",
    "        features.append(feature)\n",
    "    return features"
   ]
  },
  {
   "cell_type": "markdown",
   "metadata": {
    "papermill": {
     "duration": 0.013654,
     "end_time": "2021-11-14T18:38:08.419528",
     "exception": false,
     "start_time": "2021-11-14T18:38:08.405874",
     "status": "completed"
    },
    "tags": []
   },
   "source": [
    "### Postprocess QA Predictions"
   ]
  },
  {
   "cell_type": "code",
   "execution_count": 7,
   "metadata": {
    "execution": {
     "iopub.execute_input": "2021-11-14T18:38:08.462276Z",
     "iopub.status.busy": "2021-11-14T18:38:08.460829Z",
     "iopub.status.idle": "2021-11-14T18:38:08.463264Z",
     "shell.execute_reply": "2021-11-14T18:38:08.463744Z",
     "shell.execute_reply.started": "2021-11-14T18:33:32.985115Z"
    },
    "papermill": {
     "duration": 0.030239,
     "end_time": "2021-11-14T18:38:08.463864",
     "exception": false,
     "start_time": "2021-11-14T18:38:08.433625",
     "status": "completed"
    },
    "tags": []
   },
   "outputs": [],
   "source": [
    "import collections\n",
    "\n",
    "def postprocess_qa_predictions(examples, features, raw_predictions, n_best_size = 20, max_answer_length = 30):\n",
    "    all_start_logits, all_end_logits = raw_predictions\n",
    "    \n",
    "    example_id_to_index = {k: i for i, k in enumerate(examples[\"id\"])}\n",
    "    features_per_example = collections.defaultdict(list)\n",
    "    for i, feature in enumerate(features):\n",
    "        features_per_example[example_id_to_index[feature[\"example_id\"]]].append(i)\n",
    "\n",
    "    predictions = collections.OrderedDict()\n",
    "\n",
    "    print(f\"Post-processing {len(examples)} example predictions split into {len(features)} features.\")\n",
    "\n",
    "    for example_index, example in examples.iterrows():\n",
    "        feature_indices = features_per_example[example_index]\n",
    "\n",
    "        min_null_score = None\n",
    "        valid_answers = []\n",
    "        \n",
    "        context = example[\"context\"]\n",
    "        for feature_index in feature_indices:\n",
    "            start_logits = all_start_logits[feature_index]\n",
    "            end_logits = all_end_logits[feature_index]\n",
    "\n",
    "            sequence_ids = features[feature_index][\"sequence_ids\"]\n",
    "            context_index = 1\n",
    "\n",
    "            features[feature_index][\"offset_mapping\"] = [\n",
    "                (o if sequence_ids[k] == context_index else None)\n",
    "                for k, o in enumerate(features[feature_index][\"offset_mapping\"])\n",
    "            ]\n",
    "            offset_mapping = features[feature_index][\"offset_mapping\"]\n",
    "            cls_index = features[feature_index][\"input_ids\"].index(tokenizer.cls_token_id)\n",
    "            feature_null_score = start_logits[cls_index] + end_logits[cls_index]\n",
    "            if min_null_score is None or min_null_score < feature_null_score:\n",
    "                min_null_score = feature_null_score\n",
    "\n",
    "            start_indexes = np.argsort(start_logits)[-1 : -n_best_size - 1 : -1].tolist()\n",
    "            end_indexes = np.argsort(end_logits)[-1 : -n_best_size - 1 : -1].tolist()\n",
    "            for start_index in start_indexes:\n",
    "                for end_index in end_indexes:\n",
    "                    if (\n",
    "                        start_index >= len(offset_mapping)\n",
    "                        or end_index >= len(offset_mapping)\n",
    "                        or offset_mapping[start_index] is None\n",
    "                        or offset_mapping[end_index] is None\n",
    "                    ):\n",
    "                        continue\n",
    "                    # Don't consider answers with a length that is either < 0 or > max_answer_length.\n",
    "                    if end_index < start_index or end_index - start_index + 1 > max_answer_length:\n",
    "                        continue\n",
    "\n",
    "                    start_char = offset_mapping[start_index][0]\n",
    "                    end_char = offset_mapping[end_index][1]\n",
    "                    valid_answers.append(\n",
    "                        {\n",
    "                            \"score\": start_logits[start_index] + end_logits[end_index],\n",
    "                            \"text\": context[start_char: end_char]\n",
    "                        }\n",
    "                    )\n",
    "        \n",
    "        if len(valid_answers) > 0:\n",
    "            best_answer = sorted(valid_answers, key=lambda x: x[\"score\"], reverse=True)[0]\n",
    "        else:\n",
    "            best_answer = {\"text\": \"\", \"score\": 0.0}\n",
    "        \n",
    "        predictions[example[\"id\"]] = best_answer[\"text\"]\n",
    "        \n",
    "        \n",
    "    return predictions"
   ]
  },
  {
   "cell_type": "markdown",
   "metadata": {
    "papermill": {
     "duration": 0.014031,
     "end_time": "2021-11-14T18:38:08.491756",
     "exception": false,
     "start_time": "2021-11-14T18:38:08.477725",
     "status": "completed"
    },
    "tags": []
   },
   "source": [
    "### Data Factory"
   ]
  },
  {
   "cell_type": "code",
   "execution_count": 8,
   "metadata": {
    "execution": {
     "iopub.execute_input": "2021-11-14T18:38:08.525643Z",
     "iopub.status.busy": "2021-11-14T18:38:08.525020Z",
     "iopub.status.idle": "2021-11-14T18:38:09.718092Z",
     "shell.execute_reply": "2021-11-14T18:38:09.717293Z",
     "shell.execute_reply.started": "2021-11-14T18:33:33.003816Z"
    },
    "papermill": {
     "duration": 1.212282,
     "end_time": "2021-11-14T18:38:09.718238",
     "exception": false,
     "start_time": "2021-11-14T18:38:08.505956",
     "status": "completed"
    },
    "tags": []
   },
   "outputs": [],
   "source": [
    "test = pd.read_csv('../input/chaii-hindi-and-tamil-question-answering/test.csv')\n",
    "#base_model_path = '../input/chaii-xlmroberta-large-v6/output/'\n",
    "base_model_path='../input/5fold-xlmroberta-weighted-layer-pooling-training/'\n",
    "\n",
    "tokenizer = AutoTokenizer.from_pretrained(Config().tokenizer_name)\n",
    "\n",
    "test_features = []\n",
    "for i, row in test.iterrows():\n",
    "    test_features += prepare_test_features(Config(), row, tokenizer)\n",
    "\n",
    "args = Config()\n",
    "test_dataset = DatasetRetriever(test_features, mode='test')\n",
    "test_dataloader = DataLoader(\n",
    "    test_dataset,\n",
    "    batch_size=args.eval_batch_size, \n",
    "    sampler=SequentialSampler(test_dataset),\n",
    "    num_workers=optimal_num_of_loader_workers(),\n",
    "    pin_memory=True, \n",
    "    drop_last=False\n",
    ")"
   ]
  },
  {
   "cell_type": "markdown",
   "metadata": {
    "papermill": {
     "duration": 0.013991,
     "end_time": "2021-11-14T18:38:09.746657",
     "exception": false,
     "start_time": "2021-11-14T18:38:09.732666",
     "status": "completed"
    },
    "tags": []
   },
   "source": [
    "### Intialize Inference"
   ]
  },
  {
   "cell_type": "code",
   "execution_count": 9,
   "metadata": {
    "execution": {
     "iopub.execute_input": "2021-11-14T18:38:09.781953Z",
     "iopub.status.busy": "2021-11-14T18:38:09.781052Z",
     "iopub.status.idle": "2021-11-14T18:38:09.783749Z",
     "shell.execute_reply": "2021-11-14T18:38:09.783277Z",
     "shell.execute_reply.started": "2021-11-14T18:33:34.099422Z"
    },
    "papermill": {
     "duration": 0.023245,
     "end_time": "2021-11-14T18:38:09.783871",
     "exception": false,
     "start_time": "2021-11-14T18:38:09.760626",
     "status": "completed"
    },
    "tags": []
   },
   "outputs": [],
   "source": [
    "def get_predictions(checkpoint_path):\n",
    "    config, tokenizer, model = make_model(Config())\n",
    "    model.cuda();\n",
    "    model.load_state_dict(\n",
    "        torch.load(base_model_path + checkpoint_path)\n",
    "    );\n",
    "    \n",
    "    start_logits = []\n",
    "    end_logits = []\n",
    "    for batch in test_dataloader:\n",
    "        with torch.no_grad():\n",
    "            outputs_start, outputs_end = model(batch['input_ids'].cuda(), batch['attention_mask'].cuda())\n",
    "            start_logits.append(outputs_start.cpu().numpy().tolist())\n",
    "            end_logits.append(outputs_end.cpu().numpy().tolist())\n",
    "            del outputs_start, outputs_end\n",
    "    del model, tokenizer, config\n",
    "    gc.collect()\n",
    "    return np.vstack(start_logits), np.vstack(end_logits)"
   ]
  },
  {
   "cell_type": "markdown",
   "metadata": {
    "papermill": {
     "duration": 0.013917,
     "end_time": "2021-11-14T18:38:09.811857",
     "exception": false,
     "start_time": "2021-11-14T18:38:09.797940",
     "status": "completed"
    },
    "tags": []
   },
   "source": [
    "### Ensemble 5-Folds"
   ]
  },
  {
   "cell_type": "code",
   "execution_count": 10,
   "metadata": {
    "execution": {
     "iopub.execute_input": "2021-11-14T18:38:09.846950Z",
     "iopub.status.busy": "2021-11-14T18:38:09.846146Z",
     "iopub.status.idle": "2021-11-14T18:38:09.849360Z",
     "shell.execute_reply": "2021-11-14T18:38:09.850151Z",
     "shell.execute_reply.started": "2021-11-14T18:36:32.232165Z"
    },
    "papermill": {
     "duration": 0.024322,
     "end_time": "2021-11-14T18:38:09.850278",
     "exception": false,
     "start_time": "2021-11-14T18:38:09.825956",
     "status": "completed"
    },
    "tags": []
   },
   "outputs": [
    {
     "data": {
      "text/plain": [
       "1.0"
      ]
     },
     "execution_count": 10,
     "metadata": {},
     "output_type": "execute_result"
    }
   ],
   "source": [
    "#CV\n",
    "CV = np.array([0.72834, 0.66593, 0.72221, 0.66984, 0.6476])\n",
    "W = CV/CV.sum()\n",
    "W.sum()"
   ]
  },
  {
   "cell_type": "code",
   "execution_count": 11,
   "metadata": {
    "execution": {
     "iopub.execute_input": "2021-11-14T18:38:09.885744Z",
     "iopub.status.busy": "2021-11-14T18:38:09.885006Z",
     "iopub.status.idle": "2021-11-14T18:41:40.359183Z",
     "shell.execute_reply": "2021-11-14T18:41:40.359882Z",
     "shell.execute_reply.started": "2021-11-14T18:33:34.109963Z"
    },
    "papermill": {
     "duration": 210.49519,
     "end_time": "2021-11-14T18:41:40.360109",
     "exception": false,
     "start_time": "2021-11-14T18:38:09.864919",
     "status": "completed"
    },
    "tags": []
   },
   "outputs": [
    {
     "name": "stdout",
     "output_type": "stream",
     "text": [
      "Post-processing 5 example predictions split into 63 features.\n",
      "          id                     PredictionString\n",
      "0  22bff3dec                                 येलन\n",
      "1  282758170                        8 फ़रवरी 2005\n",
      "2  d60987e0e                        १२ मार्च १८२४\n",
      "3  f99c770dc                                   13\n",
      "4  40dec1964  சுவாமிநாதன் மற்றும் வர்கீஸ் குரியன்\n"
     ]
    }
   ],
   "source": [
    "start_logits1, end_logits1 = get_predictions('output/checkpoint-fold-0-epoch-0/pytorch_model.bin')\n",
    "start_logits2, end_logits2 = get_predictions('output/checkpoint-fold-1-epoch-0/pytorch_model.bin')\n",
    "start_logits3, end_logits3 = get_predictions('output/checkpoint-fold-2-epoch-0/pytorch_model.bin')\n",
    "start_logits4, end_logits4 = get_predictions('output/checkpoint-fold-3-epoch-0/pytorch_model.bin')\n",
    "start_logits5, end_logits5 = get_predictions('output/checkpoint-fold-4-epoch-0/pytorch_model.bin')\n",
    "\n",
    "start_logits = (start_logits1*W[0] + start_logits2*W[1]+ start_logits3*W[2] + start_logits4*W[3]+ start_logits5*W[4])# / 5\n",
    "end_logits = (end_logits1*W[0] + end_logits2*W[1]+ end_logits3*W[2] + end_logits4*W[4]+ end_logits5*W[4])# / 5\n",
    "\n",
    "predictions = postprocess_qa_predictions(test, test_features, (start_logits, end_logits))\n",
    "\n",
    "test['PredictionString'] = test['id'].map(predictions)\n",
    "#test[['id', 'PredictionString']].to_csv('submission.csv', index=False)\n",
    "\n",
    "print(test[['id', 'PredictionString']])"
   ]
  },
  {
   "cell_type": "code",
   "execution_count": 12,
   "metadata": {
    "execution": {
     "iopub.execute_input": "2021-11-14T18:41:40.404080Z",
     "iopub.status.busy": "2021-11-14T18:41:40.399526Z",
     "iopub.status.idle": "2021-11-14T18:41:40.414506Z",
     "shell.execute_reply": "2021-11-14T18:41:40.414059Z"
    },
    "papermill": {
     "duration": 0.038526,
     "end_time": "2021-11-14T18:41:40.414616",
     "exception": false,
     "start_time": "2021-11-14T18:41:40.376090",
     "status": "completed"
    },
    "tags": []
   },
   "outputs": [
    {
     "name": "stdout",
     "output_type": "stream",
     "text": [
      "          id                     PredictionString\n",
      "0  22bff3dec                                 येलन\n",
      "1  282758170                        8 फ़रवरी 2005\n",
      "2  d60987e0e                        १२ मार्च १८२४\n",
      "3  f99c770dc                                   13\n",
      "4  40dec1964  சுவாமிநாதன் மற்றும் வர்கீஸ் குரியன்\n"
     ]
    }
   ],
   "source": [
    "bad_starts = [\".\", \",\", \"(\", \")\", \"-\", \"–\",  \",\", \";\"]\n",
    "bad_endings = [\"...\", \"-\", \"(\", \")\", \"–\", \",\", \";\"]\n",
    "\n",
    "tamil_ad = \"கி.பி\"\n",
    "tamil_bc = \"கி.மு\"\n",
    "tamil_km = \"கி.மீ\"\n",
    "hindi_ad = \"ई\"\n",
    "hindi_bc = \"ई.पू\"\n",
    "\n",
    "\n",
    "cleaned_preds = []\n",
    "for pred, context in test[[\"PredictionString\", \"context\"]].to_numpy():\n",
    "    if pred == \"\":\n",
    "        cleaned_preds.append(pred)\n",
    "        continue\n",
    "    while any([pred.startswith(y) for y in bad_starts]):\n",
    "        pred = pred[1:]\n",
    "    while any([pred.endswith(y) for y in bad_endings]):\n",
    "        if pred.endswith(\"...\"):\n",
    "            pred = pred[:-3]\n",
    "        else:\n",
    "            pred = pred[:-1]\n",
    "    if pred.endswith(\"...\"):\n",
    "            pred = pred[:-3]\n",
    "    \n",
    "    if any([pred.endswith(tamil_ad), pred.endswith(tamil_bc), pred.endswith(tamil_km), pred.endswith(hindi_ad), pred.endswith(hindi_bc)]) and pred+\".\" in context:\n",
    "        pred = pred+\".\"\n",
    "        \n",
    "    cleaned_preds.append(pred)\n",
    "\n",
    "test[\"PredictionString\"] = cleaned_preds\n",
    "test[['id', 'PredictionString']].to_csv('submission.csv', index=False)\n",
    "print(test[['id', 'PredictionString']])"
   ]
  },
  {
   "cell_type": "markdown",
   "metadata": {
    "papermill": {
     "duration": 0.014597,
     "end_time": "2021-11-14T18:41:40.443990",
     "exception": false,
     "start_time": "2021-11-14T18:41:40.429393",
     "status": "completed"
    },
    "tags": []
   },
   "source": [
    "### Done!"
   ]
  }
 ],
 "metadata": {
  "kernelspec": {
   "display_name": "Python 3",
   "language": "python",
   "name": "python3"
  },
  "language_info": {
   "codemirror_mode": {
    "name": "ipython",
    "version": 3
   },
   "file_extension": ".py",
   "mimetype": "text/x-python",
   "name": "python",
   "nbconvert_exporter": "python",
   "pygments_lexer": "ipython3",
   "version": "3.7.10"
  },
  "papermill": {
   "default_parameters": {},
   "duration": 229.820413,
   "end_time": "2021-11-14T18:41:44.042409",
   "environment_variables": {},
   "exception": null,
   "input_path": "__notebook__.ipynb",
   "output_path": "__notebook__.ipynb",
   "parameters": {},
   "start_time": "2021-11-14T18:37:54.221996",
   "version": "2.3.3"
  }
 },
 "nbformat": 4,
 "nbformat_minor": 5
}
